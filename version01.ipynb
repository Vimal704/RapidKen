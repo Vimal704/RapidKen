{
 "cells": [
  {
   "cell_type": "code",
   "execution_count": 37,
   "metadata": {},
   "outputs": [],
   "source": [
    "from selenium import webdriver\n",
    "from selenium.webdriver.common.by import By\n",
    "import sqlite3\n",
    "import time\n",
    "import re"
   ]
  },
  {
   "cell_type": "code",
   "execution_count": 55,
   "metadata": {},
   "outputs": [
    {
     "name": "stdout",
     "output_type": "stream",
     "text": [
      "Thanks to MANSCAPED for sponsoring today's video. Get 20% Off + Free International Shipping with promo code TECHLINKED or visit http://manscaped.com/techlinked\n",
      "\n",
      "► GET MERCH: https://lttstore.com\n",
      "► GET EXCLUSIVE CONTENT ON FLOATPLANE: https://lmg.gg/lttfloatplane\n",
      "► LISTEN TO THE TECH NEWS: https://lmg.gg/TechLinkedPodcast\n",
      "► SPONSORS, AFFILIATES, AND PARTNERS: https://lmg.gg/partners\n",
      "► OUR PODCAST GEAR: https://lmg.gg/podcastgear\n",
      "\n",
      "NEWS SOURCES: https://lmg.gg/dgPOc\n",
      "---------------------------------------------------\n",
      "Timestamps:\n",
      "0:00 i just forgot for a sec\n",
      "0:08 Users ditch Win11 for Win10\n",
      "1:38 Radeon GPU sales nosedive\n",
      "2:50 Apple is poor now, buy iPads\n",
      "5:05 QUICK BITS INTRO\n",
      "5:13 Intel Core Ultra 9 285K and other bad names\n",
      "5:58 Nintendo DMCA's 8500 Yuzu forks\n",
      "6:48 How hackers share routers\n",
      "7:44 Rabbit R1 app on iOS\n",
      "8:23 Boston Dynamics makes Spot fuzzy\n",
      "\n",
      "FOLLOW US ELSEWHERE\n",
      "---------------------------------------------------  \n",
      "Twitter: \n",
      "  / techlinkedyt  \n",
      "Instagram: \n",
      "  / techlinkedyt  \n",
      "Facebook: \n",
      "  / techlinked  \n",
      "TikTok: \n",
      "  / techlinkedyt  \n",
      "Chapters\n",
      "View all\n",
      "i just forgot for a sec\n",
      "0:00\n",
      "Users ditch Win11 for Win10\n",
      "0:08\n",
      "Radeon GPU sales nosedive\n",
      "1:38\n",
      "Apple is poor now, buy iPads\n",
      "2:50\n",
      "Transcript\n",
      "Follow along using the transcript.\n",
      "Show transcript\n",
      "TechLinked\n",
      "1.87M subscribers\n",
      "Videos\n",
      "About\n",
      "Facebook\n",
      "Twitter\n",
      "Instagram\n",
      "TikTok\n",
      "Show less\n"
     ]
    }
   ],
   "source": [
    "# Set up the WebDriver\n",
    "url = \"about:blank\"\n",
    "driver = webdriver.Chrome()\n",
    "driver.maximize_window()\n",
    "driver.get(url)\n",
    "\n",
    "# selenium_service = Service('chromedriver.exe')\n",
    "# driver = webdriver.Chrome(service=selenium_service)\n",
    "\n",
    "# URL to fetch description from\n",
    "url = 'https://www.youtube.com/watch?v=39sHUDBiJOM&list=PL3zIYvF1XjLkK2zbqBtN-eYwxG-bH_yWs'\n",
    "\n",
    "# Navigate to the URL\n",
    "driver.get(url)\n",
    "\n",
    "# Wait for the page to load\n",
    "time.sleep(10)  # Adjust this delay as needed\n",
    "\n",
    "#finding and clicking ...more button to expand discription\n",
    "more_button = driver.find_element(By.ID,'expand')\n",
    "more_button.click()\n",
    "\n",
    "# Find the description element (you may need to inspect the page to find the correct selector)\n",
    "description_element = driver.find_element(By.ID, 'description-inline-expander').text\n",
    "\n",
    "print(description_element)\n",
    "# Get the description text\n",
    "# description_text = description_element.get_attribute('content')\n",
    "\n",
    "# Close the WebDriver\n",
    "driver.quit()\n",
    "\n",
    "# Print the description text\n",
    "# print(description_text)\n"
   ]
  },
  {
   "cell_type": "code",
   "execution_count": 30,
   "metadata": {},
   "outputs": [],
   "source": [
    "pattern = r'\\b(?:[0-5]?[0-9]):(?:[0-5]?[0-9])\\b'\n",
    "timestamps = re.findall(pattern, description_element)"
   ]
  },
  {
   "cell_type": "code",
   "execution_count": 36,
   "metadata": {},
   "outputs": [],
   "source": [
    "timestamp_str = ', '.join(timestamps)"
   ]
  },
  {
   "cell_type": "code",
   "execution_count": 54,
   "metadata": {},
   "outputs": [
    {
     "name": "stdout",
     "output_type": "stream",
     "text": [
      "(1, 'https://www.youtube.com/watch?v=39sHUDBiJOM&list=PL3zIYvF1XjLkK2zbqBtN-eYwxG-bH_yWs', '0:00, 0:08, 1:38, 2:50, 5:05, 5:13, 5:58, 6:48, 7:44, 8:23, 0:00, 0:08, 1:38, 2:50, 5:05')\n"
     ]
    }
   ],
   "source": [
    "#Connect to sqlite\n",
    "connection=sqlite3.connect(\"time.db\")\n",
    "#Create a cursor object to insert record, create table, retrive\n",
    "cursor=connection.cursor()\n",
    "\n",
    "#Create the table\n",
    "table_info=\"\"\"\n",
    "Create table Time( id INTEGER PRIMARY KEY AUTOINCREMENT, url TEXT,timestamp_list TEXT)\n",
    "\"\"\"\n",
    "\n",
    "# cursor.execute(table_info)\n",
    "\n",
    "\n",
    "\n",
    "\n",
    "\n",
    "\n",
    "# insert Some more records\n",
    "cursor.execute('''Insert Into Time (url,timestamp_list) values(?,?)''',(url,timestamp_str))\n",
    "# \n",
    "data=cursor.execute('''Select * From Time''')\n",
    "\n",
    "for row in data:\n",
    "    print(row)\n",
    "# \n",
    "# # Close the connection\n",
    "# connection.commit()\n",
    "connection.close()"
   ]
  },
  {
   "cell_type": "code",
   "execution_count": null,
   "metadata": {},
   "outputs": [],
   "source": []
  },
  {
   "cell_type": "code",
   "execution_count": null,
   "metadata": {},
   "outputs": [],
   "source": []
  }
 ],
 "metadata": {
  "kernelspec": {
   "display_name": "Python 3",
   "language": "python",
   "name": "python3"
  },
  "language_info": {
   "codemirror_mode": {
    "name": "ipython",
    "version": 3
   },
   "file_extension": ".py",
   "mimetype": "text/x-python",
   "name": "python",
   "nbconvert_exporter": "python",
   "pygments_lexer": "ipython3",
   "version": "3.11.4"
  }
 },
 "nbformat": 4,
 "nbformat_minor": 2
}
